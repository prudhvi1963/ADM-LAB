{
  "nbformat": 4,
  "nbformat_minor": 0,
  "metadata": {
    "colab": {
      "provenance": [],
      "authorship_tag": "ABX9TyM9B2lg+czoRhmg6wMYU+EO",
      "include_colab_link": true
    },
    "kernelspec": {
      "name": "python3",
      "display_name": "Python 3"
    },
    "language_info": {
      "name": "python"
    }
  },
  "cells": [
    {
      "cell_type": "markdown",
      "metadata": {
        "id": "view-in-github",
        "colab_type": "text"
      },
      "source": [
        "<a href=\"https://colab.research.google.com/github/prudhvi1963/ADM-LAB/blob/main/lab-4.ipynb\" target=\"_parent\"><img src=\"https://colab.research.google.com/assets/colab-badge.svg\" alt=\"Open In Colab\"/></a>"
      ]
    },
    {
      "cell_type": "code",
      "execution_count": 1,
      "metadata": {
        "id": "IcYzYf4ioE6B"
      },
      "outputs": [],
      "source": [
        "import pandas as pd\n",
        "from sklearn.preprocessing import LabelEncoder"
      ]
    },
    {
      "cell_type": "code",
      "source": [
        "data = {\n",
        "      'Name': ['Alice', 'Bob', 'Charlie', 'David', 'Eve'],\n",
        "          'Gender': ['Female', 'Male', 'Male', 'Male', 'Female'],\n",
        "              'DOB': ['1990-05-15', '1985-10-22', '1992-07-08', '1988-03-25', '1995-12-30'],\n",
        "                  'City': ['New York', 'Los Angeles', 'Chicago', 'Houston', 'Phoenix'],\n",
        "                      'Salary': [70000, 80000, 75000, 90000, 65000]\n",
        "                      }"
      ],
      "metadata": {
        "id": "UkyYE1KAocLA"
      },
      "execution_count": 2,
      "outputs": []
    },
    {
      "cell_type": "code",
      "source": [
        "df = pd.DataFrame(data)"
      ],
      "metadata": {
        "id": "kzOD6br5ocN5"
      },
      "execution_count": 3,
      "outputs": []
    },
    {
      "cell_type": "code",
      "source": [
        "df['DOB'] = pd.to_datetime(df['DOB'])\n",
        "df['Age'] = pd.Timestamp.now().year - df['DOB'].dt.year"
      ],
      "metadata": {
        "id": "QMZkQJwEocQe"
      },
      "execution_count": 4,
      "outputs": []
    },
    {
      "cell_type": "code",
      "source": [
        "label_encoder = LabelEncoder()\n",
        "df['Gender_Label'] = label_encoder.fit_transform(df['Gender'])"
      ],
      "metadata": {
        "id": "bKnR4U9kocTL"
      },
      "execution_count": 5,
      "outputs": []
    },
    {
      "cell_type": "code",
      "source": [
        "df = pd.get_dummies(df, columns=['City'])"
      ],
      "metadata": {
        "id": "hoOhnCeMocVy"
      },
      "execution_count": 6,
      "outputs": []
    },
    {
      "cell_type": "code",
      "source": [
        "grouped_df = df.groupby('Gender')['Salary'].mean().reset_index()\n",
        "print(\"Average Salary by Gender:\")\n",
        "print(grouped_df)"
      ],
      "metadata": {
        "colab": {
          "base_uri": "https://localhost:8080/"
        },
        "id": "Yr3IEW_MocYY",
        "outputId": "4da76965-7c7b-43ac-cd69-4913f2046788"
      },
      "execution_count": 7,
      "outputs": [
        {
          "output_type": "stream",
          "name": "stdout",
          "text": [
            "Average Salary by Gender:\n",
            "   Gender        Salary\n",
            "0  Female  67500.000000\n",
            "1    Male  81666.666667\n"
          ]
        }
      ]
    },
    {
      "cell_type": "code",
      "source": [
        "pivot_df = df.pivot_table(values='Salary', index='Gender', columns='Age', aggfunc='mean', fill_value=0)\n",
        "print(\"\\nPivot Table (Salary by Gender and Age):\")\n",
        "print(pivot_df)"
      ],
      "metadata": {
        "colab": {
          "base_uri": "https://localhost:8080/"
        },
        "id": "2R7URsRkoca_",
        "outputId": "65560a74-83ae-431f-f569-add358d5f024"
      },
      "execution_count": 8,
      "outputs": [
        {
          "output_type": "stream",
          "name": "stdout",
          "text": [
            "\n",
            "Pivot Table (Salary by Gender and Age):\n",
            "Age          30       33       35       37       40\n",
            "Gender                                             \n",
            "Female  65000.0      0.0  70000.0      0.0      0.0\n",
            "Male        0.0  75000.0      0.0  90000.0  80000.0\n"
          ]
        }
      ]
    },
    {
      "cell_type": "code",
      "source": [
        "print(\"\\nTransformed DataFrame:\")\n",
        "print(df)"
      ],
      "metadata": {
        "colab": {
          "base_uri": "https://localhost:8080/"
        },
        "id": "2ypGPIEEocdx",
        "outputId": "9791f94f-b0b6-4b0c-8d9e-ddd65f88e2bd"
      },
      "execution_count": 9,
      "outputs": [
        {
          "output_type": "stream",
          "name": "stdout",
          "text": [
            "\n",
            "Transformed DataFrame:\n",
            "      Name  Gender        DOB  Salary  Age  Gender_Label  City_Chicago  \\\n",
            "0    Alice  Female 1990-05-15   70000   35             0         False   \n",
            "1      Bob    Male 1985-10-22   80000   40             1         False   \n",
            "2  Charlie    Male 1992-07-08   75000   33             1          True   \n",
            "3    David    Male 1988-03-25   90000   37             1         False   \n",
            "4      Eve  Female 1995-12-30   65000   30             0         False   \n",
            "\n",
            "   City_Houston  City_Los Angeles  City_New York  City_Phoenix  \n",
            "0         False             False           True         False  \n",
            "1         False              True          False         False  \n",
            "2         False             False          False         False  \n",
            "3          True             False          False         False  \n",
            "4         False             False          False          True  \n"
          ]
        }
      ]
    },
    {
      "cell_type": "code",
      "source": [],
      "metadata": {
        "id": "ZX_1zu57ocgb"
      },
      "execution_count": null,
      "outputs": []
    },
    {
      "cell_type": "code",
      "source": [],
      "metadata": {
        "id": "WCHnDyODocjP"
      },
      "execution_count": null,
      "outputs": []
    },
    {
      "cell_type": "code",
      "source": [],
      "metadata": {
        "id": "7rW8nssQocl8"
      },
      "execution_count": null,
      "outputs": []
    },
    {
      "cell_type": "code",
      "source": [],
      "metadata": {
        "id": "eovI3Wruocor"
      },
      "execution_count": null,
      "outputs": []
    },
    {
      "cell_type": "code",
      "source": [],
      "metadata": {
        "id": "ElbmO5Akocrk"
      },
      "execution_count": null,
      "outputs": []
    },
    {
      "cell_type": "code",
      "source": [],
      "metadata": {
        "id": "0S-4g5JAocuM"
      },
      "execution_count": null,
      "outputs": []
    },
    {
      "cell_type": "code",
      "source": [],
      "metadata": {
        "id": "i2JLJW1qocxC"
      },
      "execution_count": null,
      "outputs": []
    },
    {
      "cell_type": "code",
      "source": [],
      "metadata": {
        "id": "RTdmX_Aeocz9"
      },
      "execution_count": null,
      "outputs": []
    },
    {
      "cell_type": "code",
      "source": [],
      "metadata": {
        "id": "UIStu_5Xoc2w"
      },
      "execution_count": null,
      "outputs": []
    },
    {
      "cell_type": "code",
      "source": [],
      "metadata": {
        "id": "ZfytBTfwoc5u"
      },
      "execution_count": null,
      "outputs": []
    },
    {
      "cell_type": "code",
      "source": [],
      "metadata": {
        "id": "vR_Nmau3oc8i"
      },
      "execution_count": null,
      "outputs": []
    },
    {
      "cell_type": "code",
      "source": [],
      "metadata": {
        "id": "MFR8YgZ3oc_q"
      },
      "execution_count": null,
      "outputs": []
    },
    {
      "cell_type": "code",
      "source": [],
      "metadata": {
        "id": "Ku1N_6VaodC_"
      },
      "execution_count": null,
      "outputs": []
    }
  ]
}